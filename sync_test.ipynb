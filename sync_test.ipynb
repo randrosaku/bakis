{
 "cells": [
  {
   "cell_type": "code",
   "execution_count": 41,
   "metadata": {},
   "outputs": [],
   "source": [
    "# from utils.processing import Processing\n",
    "from mne.preprocessing import ICA\n",
    "import matplotlib.pyplot as plt\n",
    "\n",
    "import mne\n",
    "import pathlib\n",
    "import numpy as np\n",
    "from scipy.stats import pearsonr\n",
    "from scipy.stats import wilcoxon\n",
    "\n",
    "from utils.processing import Processing\n",
    "\n",
    "import random\n",
    "import timeit"
   ]
  },
  {
   "cell_type": "code",
   "execution_count": 42,
   "metadata": {},
   "outputs": [],
   "source": [
    "data = {}\n",
    "for filename in pathlib.Path(\"./lee2019-artifacts/\").glob(\"*SSVEP_train-raw*.fif\"):\n",
    "    data[filename] = mne.io.read_raw(filename, preload=True, verbose=False).pick(\n",
    "        [\"O1\", \"O2\", \"Fp1\", \"Fp2\"]\n",
    "    )"
   ]
  },
  {
   "cell_type": "code",
   "execution_count": 43,
   "metadata": {},
   "outputs": [
    {
     "data": {
      "text/plain": [
       "54"
      ]
     },
     "execution_count": 43,
     "metadata": {},
     "output_type": "execute_result"
    }
   ],
   "source": [
    "len(data)"
   ]
  },
  {
   "cell_type": "code",
   "execution_count": 44,
   "metadata": {},
   "outputs": [],
   "source": [
    "import scipy.signal as signal\n",
    "\n",
    "\n",
    "def hilbert_tranform(data: np.ndarray):\n",
    "    \"\"\"Computes analytic signal using Hilbert transform\n",
    "\n",
    "    Args:\n",
    "        data (np.ndarray): Data to compute analytic signal from\n",
    "    \"\"\"\n",
    "\n",
    "    assert (\n",
    "        data[0].shape[0] == data[1].shape[0]\n",
    "    ), \"Two data streams should have the same number of trials.\"\n",
    "    data = np.array(data)\n",
    "\n",
    "    # Hilbert transform\n",
    "    complex_signal = []\n",
    "\n",
    "    data_array = np.array([data[participant] for participant in range(2)])\n",
    "    hilb = signal.hilbert(data_array)\n",
    "    complex_signal.append(hilb)\n",
    "\n",
    "    complex_signal = np.moveaxis(np.array(complex_signal), [0], [3])\n",
    "\n",
    "    return complex_signal"
   ]
  },
  {
   "cell_type": "code",
   "execution_count": 45,
   "metadata": {},
   "outputs": [],
   "source": [
    "from hypyp import analyses\n",
    "\n",
    "\n",
    "def calculate_sync(epochs: mne.Epochs, parameter: str):\n",
    "    \"\"\"Calculates synchronization value\n",
    "\n",
    "    Args:\n",
    "        epochs (mne.Epochs): Epoched EEG data\n",
    "        parameter (str): Synchronization parameter\n",
    "    \"\"\"\n",
    "\n",
    "    values = hilbert_tranform(data=np.array(epochs))\n",
    "    result = analyses.compute_sync(values, parameter, epochs_average=True)\n",
    "\n",
    "    inter_values = result[:, 0:2, 2:4]\n",
    "\n",
    "    AM = np.mean(inter_values)\n",
    "    GM = np.prod(inter_values) ** (1 / 4)\n",
    "\n",
    "    inter_sync = np.round(((AM + GM) / 2), 2)\n",
    "\n",
    "    return inter_sync"
   ]
  },
  {
   "cell_type": "code",
   "execution_count": 46,
   "metadata": {},
   "outputs": [
    {
     "data": {
      "text/plain": [
       "[41, 8, 2, 48, 18, 16]"
      ]
     },
     "execution_count": 46,
     "metadata": {},
     "output_type": "execute_result"
    }
   ],
   "source": [
    "random.seed(42)\n",
    "sampled_data = random.sample(range(1, len(data)), 6)\n",
    "sampled_data"
   ]
  },
  {
   "cell_type": "code",
   "execution_count": 47,
   "metadata": {},
   "outputs": [],
   "source": [
    "modes = [\"ica\", \n",
    "        #  \"asr\", \"bilstm\"\n",
    "         ]\n",
    "\n",
    "tmin = 1\n",
    "tmax = 3\n",
    "channels = [\"O1\", \"O2\"]\n",
    "reg = \"^((?!__).)*$\"\n",
    "\n",
    "cohs = []"
   ]
  },
  {
   "cell_type": "code",
   "execution_count": 48,
   "metadata": {},
   "outputs": [],
   "source": [
    "def synchronization(subj1, subj2):\n",
    "    events_subj1, names = mne.events_from_annotations(subj1, regexp=reg)\n",
    "    events_subj1 = mne.pick_events(events_subj1)\n",
    "\n",
    "    events_subj2, names = mne.events_from_annotations(subj2, regexp=reg)\n",
    "    events_subj2 = mne.pick_events(events_subj2)\n",
    "\n",
    "    for mode in modes:\n",
    "        start = timeit.default_timer()\n",
    "        subj1_clean = Processing(raw=subj1, mode=mode)\n",
    "        subj2_clean = Processing(raw=subj2, mode=mode)\n",
    "\n",
    "        subj1_epochs = mne.Epochs(\n",
    "            subj1_clean.reconstructed,\n",
    "            events=events_subj1,\n",
    "            event_id=names,\n",
    "            tmin=tmin,\n",
    "            tmax=tmax,\n",
    "            baseline=None,\n",
    "            preload=True,\n",
    "            verbose=False,\n",
    "            picks=channels,\n",
    "        )\n",
    "\n",
    "        subj2_epochs = mne.Epochs(\n",
    "            subj2_clean.reconstructed,\n",
    "            events=events_subj2,\n",
    "            event_id=names,\n",
    "            tmin=tmin,\n",
    "            tmax=tmax,\n",
    "            baseline=None,\n",
    "            preload=True,\n",
    "            verbose=False,\n",
    "            picks=channels,\n",
    "        )\n",
    "\n",
    "        coh = calculate_sync(\n",
    "            epochs=[subj1_epochs, subj2_epochs], parameter=\"coh\"\n",
    "        )\n",
    "\n",
    "        cohs.append(coh)\n",
    "\n",
    "        stop = timeit.default_timer()\n",
    "\n",
    "        print(\n",
    "            f\"Results when using {mode} mode:\\n| {coh} | time = {np.round(stop-start)}\\n\"\n",
    "        )"
   ]
  },
  {
   "cell_type": "markdown",
   "metadata": {},
   "source": [
    "Group 1"
   ]
  },
  {
   "cell_type": "code",
   "execution_count": 50,
   "metadata": {},
   "outputs": [
    {
     "name": "stdout",
     "output_type": "stream",
     "text": [
      "Results when using ica mode:\n",
      "| 0.17 | time = 8.0\n",
      "\n"
     ]
    }
   ],
   "source": [
    "_, subj1 = list(data.items())[sampled_data[0]]\n",
    "_, subj2 = list(data.items())[sampled_data[1]]\n",
    "\n",
    "synchronization(subj1, subj2)"
   ]
  },
  {
   "cell_type": "markdown",
   "metadata": {},
   "source": [
    "Group 2"
   ]
  },
  {
   "cell_type": "code",
   "execution_count": 51,
   "metadata": {},
   "outputs": [
    {
     "name": "stdout",
     "output_type": "stream",
     "text": [
      "Results when using ica mode:\n",
      "| 0.13 | time = 9.0\n",
      "\n"
     ]
    }
   ],
   "source": [
    "_, subj1 = list(data.items())[sampled_data[2]]\n",
    "_, subj2 = list(data.items())[sampled_data[3]]\n",
    "\n",
    "synchronization(subj1, subj2)"
   ]
  },
  {
   "cell_type": "markdown",
   "metadata": {},
   "source": [
    "Group 3"
   ]
  },
  {
   "cell_type": "code",
   "execution_count": 53,
   "metadata": {},
   "outputs": [
    {
     "name": "stdout",
     "output_type": "stream",
     "text": [
      "Results when using ica mode:\n",
      "| 0.15 | time = 8.0\n",
      "\n"
     ]
    }
   ],
   "source": [
    "_, subj1 = list(data.items())[sampled_data[4]]\n",
    "_, subj2 = list(data.items())[sampled_data[5]]\n",
    "\n",
    "synchronization(subj1, subj2)"
   ]
  },
  {
   "cell_type": "code",
   "execution_count": 64,
   "metadata": {},
   "outputs": [
    {
     "name": "stdout",
     "output_type": "stream",
     "text": [
      "Coh value = 0.15 +- 0.02\n"
     ]
    }
   ],
   "source": [
    "# Mean and standard deviation for coherence and PLV\n",
    "mean_coherence = np.round(np.mean(cohs), 2)\n",
    "std_coherence = np.round(np.std(cohs), 2)\n",
    "\n",
    "print(f\"Coh value = {mean_coherence} +- {std_coherence}\")\n"
   ]
  },
  {
   "cell_type": "code",
   "execution_count": 56,
   "metadata": {},
   "outputs": [
    {
     "data": {
      "text/plain": [
       "[0.17, 0.13, 0.15]"
      ]
     },
     "execution_count": 56,
     "metadata": {},
     "output_type": "execute_result"
    }
   ],
   "source": [
    "cohs"
   ]
  },
  {
   "cell_type": "code",
   "execution_count": 70,
   "metadata": {},
   "outputs": [
    {
     "data": {
      "text/plain": [
       "[0.1635711811460089, 0.1597643563119058, 0.15895143360769973]"
      ]
     },
     "execution_count": 70,
     "metadata": {},
     "output_type": "execute_result"
    }
   ],
   "source": [
    "import numpy as np\n",
    "from scipy.stats import kruskal\n",
    "from scipy.signal import coherence\n",
    "\n",
    "# Example coherence values from actual subjects\n",
    "# Assuming coherence values are stored in a list of lists, one for each pair\n",
    "actual_coh_values = [0.2, 0.3, 0.25]  # Placeholder values\n",
    "\n",
    "# Generate random signals and calculate coherence for each pair equivalent\n",
    "random_coh_values = []\n",
    "for _ in range(len(actual_coh_values)):\n",
    "    # Generate random data\n",
    "    random_signal1 = np.random.normal(0, 1, 1000)\n",
    "    random_signal2 = np.random.normal(0, 1, 1000)\n",
    "\n",
    "    # Calculate coherence\n",
    "    _, coh = coherence(random_signal1, random_signal2, fs=256, nperseg=256)\n",
    "    random_coh_values.append(np.mean(coh))\n",
    "\n",
    "\n",
    "random_coh_values"
   ]
  },
  {
   "cell_type": "code",
   "execution_count": 71,
   "metadata": {},
   "outputs": [],
   "source": [
    "icas = [0.17, 0.13, 0.15]\n",
    "asrs = [0.16, 0.14, 0.15]\n",
    "bilstms = [0.3, 0.29, 0.21]"
   ]
  },
  {
   "cell_type": "code",
   "execution_count": 72,
   "metadata": {},
   "outputs": [
    {
     "name": "stdout",
     "output_type": "stream",
     "text": [
      "Kruskal-Wallis H-test Statistic: 1.1904761904761898\n",
      "P-value: 0.27523352407483126\n"
     ]
    }
   ],
   "source": [
    "# Conduct Kruskal-Wallis H-test\n",
    "stat, p_value = kruskal(asrs, random_coh_values)\n",
    "\n",
    "print(f\"Kruskal-Wallis H-test Statistic: {stat}\")\n",
    "print(f\"P-value: {p_value}\")"
   ]
  },
  {
   "cell_type": "code",
   "execution_count": null,
   "metadata": {},
   "outputs": [],
   "source": []
  }
 ],
 "metadata": {
  "kernelspec": {
   "display_name": "ub",
   "language": "python",
   "name": "python3"
  },
  "language_info": {
   "codemirror_mode": {
    "name": "ipython",
    "version": 3
   },
   "file_extension": ".py",
   "mimetype": "text/x-python",
   "name": "python",
   "nbconvert_exporter": "python",
   "pygments_lexer": "ipython3",
   "version": "3.10.13"
  }
 },
 "nbformat": 4,
 "nbformat_minor": 2
}
