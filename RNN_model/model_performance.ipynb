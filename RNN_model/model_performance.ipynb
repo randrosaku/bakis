{
 "cells": [
  {
   "cell_type": "code",
   "execution_count": 22,
   "metadata": {},
   "outputs": [],
   "source": [
    "import numpy as np\n",
    "import tensorflow as tf\n",
    "\n",
    "from tensorflow.keras.models import load_model"
   ]
  },
  {
   "cell_type": "code",
   "execution_count": 23,
   "metadata": {},
   "outputs": [],
   "source": [
    "test_clean = np.load(\"data/Test_clean.npy\")\n",
    "test_noisy = np.load(\"data/Test_noisy.npy\")\n",
    "\n",
    "test_clean_2 = np.load(\"data/Test_clean_3.npy\")\n",
    "test_noisy_2 = np.load(\"data/Test_noisy_3.npy\")"
   ]
  },
  {
   "cell_type": "code",
   "execution_count": 24,
   "metadata": {},
   "outputs": [],
   "source": [
    "# b40_LR00005 = load_model('models/b40-LR00005.keras')\n",
    "# loss, mae = b40_LR00005.evaluate(test_noisy, test_clean, verbose=2)\n",
    "# print('Restored model, loss: {:5.2f}%'.format(100 * loss))\n",
    "\n",
    "# print(b40_LR00005.predict(test_noisy).shape)"
   ]
  },
  {
   "cell_type": "code",
   "execution_count": 25,
   "metadata": {},
   "outputs": [],
   "source": [
    "# b10_LRsch = load_model('models/b10-LRsch.keras')\n",
    "\n",
    "# loss, mae = b10_LRsch.evaluate(test_noisy, test_clean, verbose=2)\n",
    "# print('Restored model, loss: {:5.2f}%'.format(100 * loss))\n",
    "\n",
    "# print(b10_LRsch.predict(test_noisy).shape)"
   ]
  },
  {
   "cell_type": "code",
   "execution_count": 26,
   "metadata": {},
   "outputs": [],
   "source": [
    "# b20_LRsch = load_model('models/b20-LRsch.keras')\n",
    "\n",
    "# loss, mae = b20_LRsch.evaluate(test_noisy, test_clean, verbose=2)\n",
    "# print('Restored model, loss: {:5.2f}%'.format(100 * loss))\n",
    "\n",
    "# print(b20_LRsch.predict(test_noisy).shape)"
   ]
  },
  {
   "cell_type": "code",
   "execution_count": 27,
   "metadata": {},
   "outputs": [],
   "source": [
    "# b40_LRsch = load_model('models/b40-LRsch.keras')\n",
    "\n",
    "# loss, mae = b40_LRsch.evaluate(test_noisy, test_clean, verbose=2)\n",
    "# print('Restored model, loss: {:5.2f}%'.format(100 * loss))\n",
    "\n",
    "# print(b40_LRsch.predict(test_noisy).shape)"
   ]
  },
  {
   "cell_type": "code",
   "execution_count": 28,
   "metadata": {},
   "outputs": [],
   "source": [
    "# b60_LRsch = load_model('models/b60-LRsch.keras')\n",
    "\n",
    "# loss, mae = b60_LRsch.evaluate(test_noisy, test_clean, verbose=2)\n",
    "# print('Restored model, loss: {:5.2f}%'.format(100 * loss))\n",
    "\n",
    "# print(b60_LRsch.predict(test_noisy).shape)"
   ]
  },
  {
   "cell_type": "code",
   "execution_count": 29,
   "metadata": {},
   "outputs": [],
   "source": [
    "# import matplotlib.pyplot as plt\n",
    "\n",
    "# # Plotting the training and validation loss\n",
    "# plt.plot(history.history['loss'], label='Training Loss')\n",
    "# plt.plot(history.history['val_loss'], label='Validation Loss')\n",
    "# plt.title('Training and Validation Loss')\n",
    "# plt.legend()\n",
    "# plt.show()\n",
    "\n",
    "# # Plotting the training and validation MSE and RMSE\n",
    "# plt.figure()\n",
    "# plt.plot(history.history['mse'], label='Training MSE')\n",
    "# plt.plot(history.history['val_mse'], label='Validation MSE')\n",
    "# plt.plot(history.history['RMSE'], label='Training RMSE')\n",
    "# plt.plot(history.history['val_RMSE'], label='Validation RMSE')\n",
    "# plt.title('Training and Validation MSE/RMSE')\n",
    "# plt.legend()\n",
    "# plt.show()"
   ]
  },
  {
   "cell_type": "code",
   "execution_count": 30,
   "metadata": {},
   "outputs": [
    {
     "name": "stdout",
     "output_type": "stream",
     "text": [
      "107/107 [==============================] - 7s 45ms/step - loss: 0.3066 - mae: 0.4023\n",
      "Test Loss (MSE): 0.306557834148407\n",
      "Test MAE: 0.4023107886314392\n",
      "107/107 [==============================] - 6s 42ms/step\n",
      "(3400, 512)\n"
     ]
    }
   ],
   "source": [
    "b20_LRsch_2 = load_model('b20-LRsch-e500.keras')\n",
    "\n",
    "# loss, mae = b20_LRsch_2.evaluate(test_noisy, test_clean, verbose=2)\n",
    "# print('Restored model, loss: {:5.2f}%'.format(100 * loss))\n",
    "\n",
    "test_loss, test_mae = b20_LRsch_2.evaluate(x=test_noisy, y=test_clean)\n",
    "print(f\"Test Loss (MSE): {test_loss}\")\n",
    "print(f\"Test MAE: {test_mae}\")\n",
    "\n",
    "print(b20_LRsch_2.predict(test_noisy).shape)"
   ]
  },
  {
   "cell_type": "code",
   "execution_count": 31,
   "metadata": {},
   "outputs": [
    {
     "name": "stdout",
     "output_type": "stream",
     "text": [
      "107/107 [==============================] - 6s 42ms/step - loss: 0.3062 - mae: 0.4022\n",
      "Test Loss (MSE): 0.30616286396980286\n",
      "Test MAE: 0.4021855890750885\n",
      "107/107 [==============================] - 6s 40ms/step\n",
      "(3400, 512)\n"
     ]
    }
   ],
   "source": [
    "b60_LRsch_2 = load_model('b60-LRsch-e500.keras')\n",
    "\n",
    "# loss, mae = b60_LRsch_2.evaluate(test_noisy, test_clean, verbose=2)\n",
    "# print('Restored model, loss: {:5.2f}%'.format(100 * loss))\n",
    "\n",
    "test_loss, test_mae = b60_LRsch_2.evaluate(x=test_noisy, y=test_clean)\n",
    "print(f\"Test Loss (MSE): {test_loss}\")\n",
    "print(f\"Test MAE: {test_mae}\")\n",
    "\n",
    "print(b60_LRsch_2.predict(test_noisy).shape)"
   ]
  },
  {
   "cell_type": "markdown",
   "metadata": {},
   "source": [
    "kita testavimo aibė"
   ]
  },
  {
   "cell_type": "code",
   "execution_count": 32,
   "metadata": {},
   "outputs": [
    {
     "name": "stdout",
     "output_type": "stream",
     "text": [
      "107/107 [==============================] - 6s 41ms/step - loss: 0.3231 - mae: 0.3868\n",
      "Test Loss (MSE): 0.32306763529777527\n",
      "Test MAE: 0.38683032989501953\n",
      "107/107 [==============================] - 6s 41ms/step\n",
      "(3400, 512)\n"
     ]
    }
   ],
   "source": [
    "b20_LRsch_2 = load_model('b20-LRsch-e500.keras')\n",
    "\n",
    "# loss, mae = b20_LRsch_2.evaluate(test_noisy, test_clean, verbose=2)\n",
    "# print('Restored model, loss: {:5.2f}%'.format(100 * loss))\n",
    "\n",
    "test_loss, test_mae = b20_LRsch_2.evaluate(x=test_noisy_2, y=test_clean_2)\n",
    "print(f\"Test Loss (MSE): {test_loss}\")\n",
    "print(f\"Test MAE: {test_mae}\")\n",
    "\n",
    "print(b20_LRsch_2.predict(test_noisy).shape)"
   ]
  },
  {
   "cell_type": "code",
   "execution_count": 33,
   "metadata": {},
   "outputs": [
    {
     "name": "stdout",
     "output_type": "stream",
     "text": [
      "107/107 [==============================] - 6s 41ms/step - loss: 0.3225 - mae: 0.3866\n",
      "Test Loss (MSE): 0.32246148586273193\n",
      "Test MAE: 0.3865942060947418\n",
      "107/107 [==============================] - 6s 44ms/step\n",
      "(3400, 512)\n"
     ]
    }
   ],
   "source": [
    "b60_LRsch_2 = load_model('b60-LRsch-e500.keras')\n",
    "\n",
    "# loss, mae = b60_LRsch_2.evaluate(test_noisy, test_clean, verbose=2)\n",
    "# print('Restored model, loss: {:5.2f}%'.format(100 * loss))\n",
    "\n",
    "test_loss, test_mae = b60_LRsch_2.evaluate(x=test_noisy_2, y=test_clean_2)\n",
    "print(f\"Test Loss (MSE): {test_loss}\")\n",
    "print(f\"Test MAE: {test_mae}\")\n",
    "\n",
    "print(b60_LRsch_2.predict(test_noisy).shape)"
   ]
  }
 ],
 "metadata": {
  "kernelspec": {
   "display_name": "ub",
   "language": "python",
   "name": "python3"
  },
  "language_info": {
   "codemirror_mode": {
    "name": "ipython",
    "version": 3
   },
   "file_extension": ".py",
   "mimetype": "text/x-python",
   "name": "python",
   "nbconvert_exporter": "python",
   "pygments_lexer": "ipython3",
   "version": "3.10.14"
  }
 },
 "nbformat": 4,
 "nbformat_minor": 2
}
