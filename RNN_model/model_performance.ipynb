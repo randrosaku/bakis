{
 "cells": [
  {
   "cell_type": "code",
   "execution_count": 6,
   "metadata": {},
   "outputs": [],
   "source": [
    "import numpy as np\n",
    "import tensorflow as tf\n",
    "\n",
    "from tensorflow.keras.models import load_model"
   ]
  },
  {
   "cell_type": "code",
   "execution_count": 7,
   "metadata": {},
   "outputs": [],
   "source": [
    "test_clean = np.load(\"data/Test_clean.npy\")\n",
    "test_noisy = np.load(\"data/Test_noisy.npy\")"
   ]
  },
  {
   "cell_type": "code",
   "execution_count": 8,
   "metadata": {},
   "outputs": [
    {
     "name": "stdout",
     "output_type": "stream",
     "text": [
      "107/107 - 10s - loss: 0.3064 - mae: 0.4022 - 10s/epoch - 89ms/step\n",
      "Restored model, loss: 30.64%\n",
      "107/107 [==============================] - 12s 78ms/step\n",
      "(3400, 512)\n"
     ]
    }
   ],
   "source": [
    "b40_LR00005 = load_model('models/b40-LR00005.keras')\n",
    "loss, mae = b40_LR00005.evaluate(test_noisy, test_clean, verbose=2)\n",
    "print('Restored model, loss: {:5.2f}%'.format(100 * loss))\n",
    "\n",
    "print(b40_LR00005.predict(test_noisy).shape)"
   ]
  },
  {
   "cell_type": "code",
   "execution_count": 9,
   "metadata": {},
   "outputs": [
    {
     "name": "stdout",
     "output_type": "stream",
     "text": [
      "107/107 - 11s - loss: 0.3063 - mae: 0.4021 - 11s/epoch - 106ms/step\n",
      "Restored model, loss: 30.63%\n",
      "107/107 [==============================] - 11s 76ms/step\n",
      "(3400, 512)\n"
     ]
    }
   ],
   "source": [
    "b10_LRsch = load_model('models/b10-LRsch.keras')\n",
    "\n",
    "loss, mae = b10_LRsch.evaluate(test_noisy, test_clean, verbose=2)\n",
    "print('Restored model, loss: {:5.2f}%'.format(100 * loss))\n",
    "\n",
    "print(b10_LRsch.predict(test_noisy).shape)"
   ]
  },
  {
   "cell_type": "code",
   "execution_count": 10,
   "metadata": {},
   "outputs": [
    {
     "name": "stdout",
     "output_type": "stream",
     "text": [
      "107/107 - 14s - loss: 0.3063 - mae: 0.4021 - 14s/epoch - 131ms/step\n",
      "Restored model, loss: 30.63%\n",
      "107/107 [==============================] - 15s 101ms/step\n",
      "(3400, 512)\n"
     ]
    }
   ],
   "source": [
    "b20_LRsch = load_model('models/b20-LRsch.keras')\n",
    "\n",
    "loss, mae = b20_LRsch.evaluate(test_noisy, test_clean, verbose=2)\n",
    "print('Restored model, loss: {:5.2f}%'.format(100 * loss))\n",
    "\n",
    "print(b20_LRsch.predict(test_noisy).shape)"
   ]
  },
  {
   "cell_type": "code",
   "execution_count": 11,
   "metadata": {},
   "outputs": [
    {
     "name": "stdout",
     "output_type": "stream",
     "text": [
      "107/107 - 17s - loss: 0.3044 - mae: 0.4006 - 17s/epoch - 163ms/step\n",
      "Restored model, loss: 30.44%\n",
      "107/107 [==============================] - 15s 96ms/step\n",
      "(3400, 512)\n"
     ]
    }
   ],
   "source": [
    "b40_LRsch = load_model('models/b40-LRsch.keras')\n",
    "\n",
    "loss, mae = b40_LRsch.evaluate(test_noisy, test_clean, verbose=2)\n",
    "print('Restored model, loss: {:5.2f}%'.format(100 * loss))\n",
    "\n",
    "print(b40_LRsch.predict(test_noisy).shape)"
   ]
  },
  {
   "cell_type": "code",
   "execution_count": 12,
   "metadata": {},
   "outputs": [
    {
     "name": "stdout",
     "output_type": "stream",
     "text": [
      "107/107 - 12s - loss: 0.3050 - mae: 0.4009 - 12s/epoch - 113ms/step\n",
      "Restored model, loss: 30.50%\n",
      "107/107 [==============================] - 12s 78ms/step\n",
      "(3400, 512)\n"
     ]
    }
   ],
   "source": [
    "b60_LRsch = load_model('models/b60-LRsch.keras')\n",
    "\n",
    "loss, mae = b60_LRsch.evaluate(test_noisy, test_clean, verbose=2)\n",
    "print('Restored model, loss: {:5.2f}%'.format(100 * loss))\n",
    "\n",
    "print(b60_LRsch.predict(test_noisy).shape)"
   ]
  },
  {
   "cell_type": "code",
   "execution_count": null,
   "metadata": {},
   "outputs": [],
   "source": [
    "# import matplotlib.pyplot as plt\n",
    "\n",
    "# # Plotting the training and validation loss\n",
    "# plt.plot(history.history['loss'], label='Training Loss')\n",
    "# plt.plot(history.history['val_loss'], label='Validation Loss')\n",
    "# plt.title('Training and Validation Loss')\n",
    "# plt.legend()\n",
    "# plt.show()\n",
    "\n",
    "# # Plotting the training and validation MSE and RMSE\n",
    "# plt.figure()\n",
    "# plt.plot(history.history['mse'], label='Training MSE')\n",
    "# plt.plot(history.history['val_mse'], label='Validation MSE')\n",
    "# plt.plot(history.history['RMSE'], label='Training RMSE')\n",
    "# plt.plot(history.history['val_RMSE'], label='Validation RMSE')\n",
    "# plt.title('Training and Validation MSE/RMSE')\n",
    "# plt.legend()\n",
    "# plt.show()"
   ]
  }
 ],
 "metadata": {
  "kernelspec": {
   "display_name": "ub",
   "language": "python",
   "name": "python3"
  },
  "language_info": {
   "codemirror_mode": {
    "name": "ipython",
    "version": 3
   },
   "file_extension": ".py",
   "mimetype": "text/x-python",
   "name": "python",
   "nbconvert_exporter": "python",
   "pygments_lexer": "ipython3",
   "version": "3.10.14"
  }
 },
 "nbformat": 4,
 "nbformat_minor": 2
}
