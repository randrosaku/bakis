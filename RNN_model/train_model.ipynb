{
 "cells": [
  {
   "cell_type": "code",
   "execution_count": 1,
   "metadata": {},
   "outputs": [],
   "source": [
    "%load_ext tensorboard"
   ]
  },
  {
   "cell_type": "code",
   "execution_count": 2,
   "metadata": {},
   "outputs": [],
   "source": [
    "import os\n",
    "import tensorflow as tf\n",
    "import datetime\n",
    "import numpy as np\n",
    "from model import RNN_bilstm"
   ]
  },
  {
   "cell_type": "code",
   "execution_count": 5,
   "metadata": {},
   "outputs": [],
   "source": [
    "epochs = 100\n",
    "batch_size  = 40\n",
    "\n",
    "os.environ['CUDA_VISIBLE_DEVICES']='0'\n",
    "adam=tf.optimizers.Adam(learning_rate=0.00005, beta_1=0.5, beta_2=0.9, epsilon=1e-08)\n",
    "datanum = 512"
   ]
  },
  {
   "cell_type": "code",
   "execution_count": 6,
   "metadata": {},
   "outputs": [],
   "source": [
    "file_location = 'data/'\n",
    "\n",
    "noiseEEG_train = np.load(file_location + \"Train_noisy.npy\")\n",
    "EEG_train = np.load(file_location + \"Train_clean.npy\")\n",
    "\n",
    "noiseEEG_val = np.load(file_location + \"valid_noisy.npy\")\n",
    "EEG_val = np.load(file_location + \"valid_clean.npy\") \n",
    "\n",
    "noiseEEG_test = np.load(file_location + \"Test_noisy.npy\") \n",
    "EEG_test = np.load(file_location + \"Test_clean.npy\")"
   ]
  },
  {
   "cell_type": "code",
   "execution_count": 7,
   "metadata": {},
   "outputs": [
    {
     "name": "stdout",
     "output_type": "stream",
     "text": [
      "Model: \"sequential\"\n",
      "_________________________________________________________________\n",
      " Layer (type)                Output Shape              Param #   \n",
      "=================================================================\n",
      " bidirectional (Bidirectiona  (None, 512, 2)           24        \n",
      " l)                                                              \n",
      "                                                                 \n",
      " dropout (Dropout)           (None, 512, 2)            0         \n",
      "                                                                 \n",
      " bidirectional_1 (Bidirectio  (None, 2)                32        \n",
      " nal)                                                            \n",
      "                                                                 \n",
      " dropout_1 (Dropout)         (None, 2)                 0         \n",
      "                                                                 \n",
      " dense (Dense)               (None, 512)               1536      \n",
      "                                                                 \n",
      " dense_1 (Dense)             (None, 512)               262656    \n",
      "                                                                 \n",
      "=================================================================\n",
      "Total params: 264,248\n",
      "Trainable params: 264,248\n",
      "Non-trainable params: 0\n",
      "_________________________________________________________________\n"
     ]
    }
   ],
   "source": [
    "model = RNN_bilstm(datanum)"
   ]
  },
  {
   "cell_type": "code",
   "execution_count": 10,
   "metadata": {},
   "outputs": [],
   "source": [
    "model.compile(\n",
    "    optimizer=adam,\n",
    "    loss='mse',\n",
    "    metrics='mae')"
   ]
  },
  {
   "cell_type": "code",
   "execution_count": 11,
   "metadata": {},
   "outputs": [
    {
     "name": "stdout",
     "output_type": "stream",
     "text": [
      "Epoch 1/100\n",
      "680/680 [==============================] - 79s 110ms/step - loss: 0.2993 - mae: 0.3990 - val_loss: 0.3063 - val_mae: 0.3999\n",
      "Epoch 2/100\n",
      "680/680 [==============================] - 75s 110ms/step - loss: 0.2976 - mae: 0.3981 - val_loss: 0.3054 - val_mae: 0.3996\n",
      "Epoch 3/100\n",
      "680/680 [==============================] - 75s 110ms/step - loss: 0.2971 - mae: 0.3978 - val_loss: 0.3048 - val_mae: 0.3994\n",
      "Epoch 4/100\n",
      "680/680 [==============================] - 75s 110ms/step - loss: 0.2968 - mae: 0.3977 - val_loss: 0.3046 - val_mae: 0.3993\n",
      "Epoch 5/100\n",
      "680/680 [==============================] - 73s 107ms/step - loss: 0.2967 - mae: 0.3977 - val_loss: 0.3044 - val_mae: 0.3991\n",
      "Epoch 6/100\n",
      "680/680 [==============================] - 73s 108ms/step - loss: 0.2964 - mae: 0.3976 - val_loss: 0.3042 - val_mae: 0.3991\n",
      "Epoch 7/100\n",
      "680/680 [==============================] - 77s 113ms/step - loss: 0.2963 - mae: 0.3975 - val_loss: 0.3039 - val_mae: 0.3989\n",
      "Epoch 8/100\n",
      "680/680 [==============================] - 77s 113ms/step - loss: 0.2961 - mae: 0.3974 - val_loss: 0.3037 - val_mae: 0.3988\n",
      "Epoch 9/100\n",
      "680/680 [==============================] - 74s 109ms/step - loss: 0.2959 - mae: 0.3973 - val_loss: 0.3034 - val_mae: 0.3986\n",
      "Epoch 10/100\n",
      "680/680 [==============================] - 72s 105ms/step - loss: 0.2958 - mae: 0.3972 - val_loss: 0.3032 - val_mae: 0.3985\n",
      "Epoch 11/100\n",
      "680/680 [==============================] - 76s 112ms/step - loss: 0.2957 - mae: 0.3972 - val_loss: 0.3029 - val_mae: 0.3984\n",
      "Epoch 12/100\n",
      "680/680 [==============================] - 77s 113ms/step - loss: 0.2955 - mae: 0.3970 - val_loss: 0.3026 - val_mae: 0.3982\n",
      "Epoch 13/100\n",
      "680/680 [==============================] - 76s 112ms/step - loss: 0.2953 - mae: 0.3970 - val_loss: 0.3024 - val_mae: 0.3981\n",
      "Epoch 14/100\n",
      "680/680 [==============================] - 74s 109ms/step - loss: 0.2952 - mae: 0.3969 - val_loss: 0.3024 - val_mae: 0.3980\n",
      "Epoch 15/100\n",
      "680/680 [==============================] - 75s 110ms/step - loss: 0.2951 - mae: 0.3969 - val_loss: 0.3022 - val_mae: 0.3979\n",
      "Epoch 16/100\n",
      "680/680 [==============================] - 77s 113ms/step - loss: 0.2950 - mae: 0.3968 - val_loss: 0.3020 - val_mae: 0.3978\n",
      "Epoch 17/100\n",
      "680/680 [==============================] - 76s 112ms/step - loss: 0.2949 - mae: 0.3968 - val_loss: 0.3019 - val_mae: 0.3977\n",
      "Epoch 18/100\n",
      "680/680 [==============================] - 73s 107ms/step - loss: 0.2949 - mae: 0.3967 - val_loss: 0.3018 - val_mae: 0.3977\n",
      "Epoch 19/100\n",
      "680/680 [==============================] - 75s 110ms/step - loss: 0.2948 - mae: 0.3966 - val_loss: 0.3016 - val_mae: 0.3976\n",
      "Epoch 20/100\n",
      "680/680 [==============================] - 74s 109ms/step - loss: 0.2948 - mae: 0.3967 - val_loss: 0.3015 - val_mae: 0.3976\n",
      "Epoch 21/100\n",
      "680/680 [==============================] - 77s 113ms/step - loss: 0.2947 - mae: 0.3966 - val_loss: 0.3014 - val_mae: 0.3975\n",
      "Epoch 22/100\n",
      "680/680 [==============================] - 74s 109ms/step - loss: 0.2946 - mae: 0.3966 - val_loss: 0.3014 - val_mae: 0.3975\n",
      "Epoch 23/100\n",
      "680/680 [==============================] - 74s 109ms/step - loss: 0.2946 - mae: 0.3966 - val_loss: 0.3012 - val_mae: 0.3973\n",
      "Epoch 24/100\n",
      "680/680 [==============================] - 78s 114ms/step - loss: 0.2946 - mae: 0.3965 - val_loss: 0.3012 - val_mae: 0.3974\n",
      "Epoch 25/100\n",
      "680/680 [==============================] - 76s 112ms/step - loss: 0.2945 - mae: 0.3965 - val_loss: 0.3011 - val_mae: 0.3973\n",
      "Epoch 26/100\n",
      "680/680 [==============================] - 76s 112ms/step - loss: 0.2945 - mae: 0.3965 - val_loss: 0.3011 - val_mae: 0.3973\n",
      "Epoch 27/100\n",
      "680/680 [==============================] - 75s 111ms/step - loss: 0.2945 - mae: 0.3965 - val_loss: 0.3010 - val_mae: 0.3972\n",
      "Epoch 28/100\n",
      "680/680 [==============================] - 74s 109ms/step - loss: 0.2944 - mae: 0.3964 - val_loss: 0.3010 - val_mae: 0.3972\n",
      "Epoch 29/100\n",
      "680/680 [==============================] - 76s 112ms/step - loss: 0.2944 - mae: 0.3964 - val_loss: 0.3009 - val_mae: 0.3972\n",
      "Epoch 30/100\n",
      "680/680 [==============================] - 76s 112ms/step - loss: 0.2944 - mae: 0.3964 - val_loss: 0.3009 - val_mae: 0.3971\n",
      "Epoch 31/100\n",
      "680/680 [==============================] - 73s 108ms/step - loss: 0.2943 - mae: 0.3964 - val_loss: 0.3008 - val_mae: 0.3971\n",
      "Epoch 32/100\n",
      "680/680 [==============================] - 75s 110ms/step - loss: 0.2944 - mae: 0.3964 - val_loss: 0.3008 - val_mae: 0.3971\n",
      "Epoch 33/100\n",
      "680/680 [==============================] - 73s 108ms/step - loss: 0.2944 - mae: 0.3964 - val_loss: 0.3008 - val_mae: 0.3971\n",
      "Epoch 34/100\n",
      "680/680 [==============================] - 78s 115ms/step - loss: 0.2944 - mae: 0.3964 - val_loss: 0.3007 - val_mae: 0.3970\n",
      "Epoch 35/100\n",
      "680/680 [==============================] - 76s 112ms/step - loss: 0.2942 - mae: 0.3963 - val_loss: 0.3007 - val_mae: 0.3970\n",
      "Epoch 36/100\n",
      "680/680 [==============================] - 74s 109ms/step - loss: 0.2943 - mae: 0.3963 - val_loss: 0.3006 - val_mae: 0.3970\n",
      "Epoch 37/100\n",
      "680/680 [==============================] - 74s 109ms/step - loss: 0.2942 - mae: 0.3963 - val_loss: 0.3006 - val_mae: 0.3970\n",
      "Epoch 38/100\n",
      "680/680 [==============================] - 73s 108ms/step - loss: 0.2941 - mae: 0.3962 - val_loss: 0.3005 - val_mae: 0.3969\n",
      "Epoch 39/100\n",
      "680/680 [==============================] - 77s 114ms/step - loss: 0.2942 - mae: 0.3963 - val_loss: 0.3006 - val_mae: 0.3969\n",
      "Epoch 40/100\n",
      "680/680 [==============================] - 75s 111ms/step - loss: 0.2941 - mae: 0.3962 - val_loss: 0.3005 - val_mae: 0.3969\n",
      "Epoch 41/100\n",
      "569/680 [========================>.....] - ETA: 11s - loss: 0.2935 - mae: 0.3958"
     ]
    }
   ],
   "source": [
    "history = model.fit(\n",
    "    x=noiseEEG_train,\n",
    "    y=EEG_train,\n",
    "    batch_size=batch_size,\n",
    "    epochs=epochs,\n",
    "    validation_data=(noiseEEG_val, EEG_val)\n",
    ")"
   ]
  },
  {
   "cell_type": "code",
   "execution_count": null,
   "metadata": {},
   "outputs": [
    {
     "name": "stdout",
     "output_type": "stream",
     "text": [
      "107/107 [==============================] - 7s 53ms/step - loss: 0.2998 - mae: 0.3965\n",
      "Test loss: 0.2998121678829193\n",
      "Test accuracy: 0.3964826166629791\n"
     ]
    }
   ],
   "source": [
    "loss, mae = model.evaluate(x=noiseEEG_test, y=EEG_test)\n",
    "print(\"Test loss:\", loss)\n",
    "print(\"Test mean average error:\", mae)"
   ]
  },
  {
   "cell_type": "code",
   "execution_count": null,
   "metadata": {},
   "outputs": [
    {
     "name": "stderr",
     "output_type": "stream",
     "text": [
      "WARNING:absl:Found untraced functions such as lstm_cell_1_layer_call_fn, lstm_cell_1_layer_call_and_return_conditional_losses, lstm_cell_2_layer_call_fn, lstm_cell_2_layer_call_and_return_conditional_losses, lstm_cell_4_layer_call_fn while saving (showing 5 of 8). These functions will not be directly callable after loading.\n"
     ]
    },
    {
     "name": "stdout",
     "output_type": "stream",
     "text": [
      "INFO:tensorflow:Assets written to: RNN_50ep\\assets\n"
     ]
    },
    {
     "name": "stderr",
     "output_type": "stream",
     "text": [
      "INFO:tensorflow:Assets written to: RNN_50ep\\assets\n"
     ]
    }
   ],
   "source": [
    "tf.keras.models.save_model(model, \"RNN_100ep\")"
   ]
  },
  {
   "cell_type": "code",
   "execution_count": null,
   "metadata": {},
   "outputs": [],
   "source": []
  }
 ],
 "metadata": {
  "kernelspec": {
   "display_name": "bakis",
   "language": "python",
   "name": "python3"
  },
  "language_info": {
   "codemirror_mode": {
    "name": "ipython",
    "version": 3
   },
   "file_extension": ".py",
   "mimetype": "text/x-python",
   "name": "python",
   "nbconvert_exporter": "python",
   "pygments_lexer": "ipython3",
   "version": "3.10.14"
  }
 },
 "nbformat": 4,
 "nbformat_minor": 2
}
