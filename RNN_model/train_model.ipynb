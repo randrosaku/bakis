{
 "cells": [
  {
   "cell_type": "code",
   "execution_count": null,
   "metadata": {},
   "outputs": [],
   "source": [
    "import tensorflow as tf\n",
    "from tensorflow.keras.models import Sequential\n",
    "from tensorflow.keras.layers import Bidirectional, LSTM, Dropout, Dense"
   ]
  },
  {
   "cell_type": "code",
   "execution_count": null,
   "metadata": {},
   "outputs": [],
   "source": [
    "units = 50  # Example number of units, adjust based on your needs\n",
    "input_shape = (None, 10) # [samples,timesteps,features], where 'samples' is the number of EEG segments, 'time steps' is the number of points in each segment, and 'features' corresponds to the number of EEG channels."
   ]
  },
  {
   "cell_type": "code",
   "execution_count": null,
   "metadata": {},
   "outputs": [],
   "source": [
    "units = 50  # Number of LSTM units\n",
    "input_shape = (num_timesteps, num_channels)  # Time steps x features"
   ]
  },
  {
   "cell_type": "code",
   "execution_count": null,
   "metadata": {},
   "outputs": [],
   "source": [
    "model = Sequential()\n",
    "model.add(Bidirectional(LSTM(units=units, return_sequences=True), input_shape=input_shape))\n",
    "model.add(Dropout(0.3))\n",
    "model.add(Bidirectional(LSTM(units=units, return_sequences=False)))\n",
    "model.add(Dropout(0.2))\n",
    "model.add(Dense(units=units, activation='relu'))\n",
    "model.add(Dense(1))\n",
    "\n",
    "model.compile(optimizer='adam', loss='mse')\n",
    "model.summary()"
   ]
  }
 ],
 "metadata": {
  "language_info": {
   "name": "python"
  }
 },
 "nbformat": 4,
 "nbformat_minor": 2
}
